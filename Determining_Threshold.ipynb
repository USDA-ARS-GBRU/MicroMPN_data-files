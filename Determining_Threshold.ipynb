{
 "cells": [
  {
   "cell_type": "markdown",
   "metadata": {},
   "source": [
    "#In this notebook we explain how to determine a threshold value to supply to MicroMPN.\n",
    "\n",
    "MicroMPN is a command-line tool for calculating MPN values directly from microplates.\n",
    "https://github.com/USDA-ARS-GBRU/micrompn\n",
    "\n",
    "For additional resources on how to run MicroMPN see:\n",
    "https://protocols.io/view/micrompn-software-for-automating-most-probable-num-cu5rwy56.html"
   ]
  },
  {
   "cell_type": "markdown",
   "metadata": {},
   "source": [
    "# Input files\n",
    "For this example, we converted the data from SpectraMax M3 to column format. For this we used the python script \"four_col_updated.py\".  \n",
    "\n",
    "We will create a kernel density plot and histogram of rfu values at time point T0 and T48. We will demonstrate that the threshold generated from background readings at T0 is also valid for T48.\n",
    "\n",
    "#All of the data files used here can be found in:\n",
    "https://github.com/USDA-ARS-GBRU/MicroMPN_data-files\n",
    "Path to files:\n",
    "MicroMPN_data-files/SpectraMax_output_to_column_format\n",
    "\n",
    "input files: \n",
    "example_t0_rfu.csv\n",
    "soil_only.csv\n",
    "\n"
   ]
  },
  {
   "cell_type": "code",
   "execution_count": null,
   "metadata": {},
   "outputs": [],
   "source": [
    "pip install seaborn "
   ]
  },
  {
   "cell_type": "code",
   "execution_count": 50,
   "metadata": {},
   "outputs": [],
   "source": [
    "import seaborn as sns\n",
    "import matplotlib.pyplot as plt\n",
    "import pandas as pd\n",
    "import numpy as np\n",
    "import itertools"
   ]
  },
  {
   "cell_type": "code",
   "execution_count": 3,
   "metadata": {},
   "outputs": [],
   "source": [
    "#import T0 data file\n",
    "df_t0 = pd.read_csv('example_t0_rfu.csv')\n",
    "length = len(df_t0)\n",
    "print(\"Length of dataframe df_t0:\", length)\n"
   ]
  },
  {
   "cell_type": "code",
   "execution_count": 92,
   "metadata": {},
   "outputs": [
    {
     "name": "stdout",
     "output_type": "stream",
     "text": [
      "     plate_unique       plate_id plate_well     rfu\n",
      "0         plate_0  RFP_1_plate_1         A1  15.762\n",
      "1         plate_0  RFP_1_plate_1         A2  12.590\n",
      "2         plate_0  RFP_1_plate_1         A3   4.075\n",
      "3         plate_0  RFP_1_plate_1         A4   3.343\n",
      "4         plate_0  RFP_1_plate_1         A5   3.136\n",
      "...           ...            ...        ...     ...\n",
      "2299     plate_23  RFP_3_plate_1         H8   2.615\n",
      "2300     plate_23  RFP_3_plate_1         H9   2.684\n",
      "2301     plate_23  RFP_3_plate_1        H10   2.428\n",
      "2302     plate_23  RFP_3_plate_1        H11   2.667\n",
      "2303     plate_23  RFP_3_plate_1        H12   3.022\n",
      "\n",
      "[2304 rows x 4 columns]\n"
     ]
    }
   ],
   "source": [
    "print(df_t0c)"
   ]
  },
  {
   "cell_type": "code",
   "execution_count": 44,
   "metadata": {},
   "outputs": [
    {
     "name": "stdout",
     "output_type": "stream",
     "text": [
      "Help on function distplot in module seaborn.distributions:\n",
      "\n",
      "distplot(a, bins=None, hist=True, kde=True, rug=False, fit=None, hist_kws=None, kde_kws=None, rug_kws=None, fit_kws=None, color=None, vertical=False, norm_hist=False, axlabel=None, label=None, ax=None)\n",
      "    Flexibly plot a univariate distribution of observations.\n",
      "    \n",
      "    This function combines the matplotlib ``hist`` function (with automatic\n",
      "    calculation of a good default bin size) with the seaborn :func:`kdeplot`\n",
      "    and :func:`rugplot` functions. It can also fit ``scipy.stats``\n",
      "    distributions and plot the estimated PDF over the data.\n",
      "    \n",
      "    Parameters\n",
      "    ----------\n",
      "    \n",
      "    a : Series, 1d-array, or list.\n",
      "        Observed data. If this is a Series object with a ``name`` attribute,\n",
      "        the name will be used to label the data axis.\n",
      "    bins : argument for matplotlib hist(), or None, optional\n",
      "        Specification of hist bins. If unspecified, as reference rule is used\n",
      "        that tries to find a useful default.\n",
      "    hist : bool, optional\n",
      "        Whether to plot a (normed) histogram.\n",
      "    kde : bool, optional\n",
      "        Whether to plot a gaussian kernel density estimate.\n",
      "    rug : bool, optional\n",
      "        Whether to draw a rugplot on the support axis.\n",
      "    fit : random variable object, optional\n",
      "        An object with `fit` method, returning a tuple that can be passed to a\n",
      "        `pdf` method a positional arguments following a grid of values to\n",
      "        evaluate the pdf on.\n",
      "    hist_kws : dict, optional\n",
      "        Keyword arguments for :meth:`matplotlib.axes.Axes.hist`.\n",
      "    kde_kws : dict, optional\n",
      "        Keyword arguments for :func:`kdeplot`.\n",
      "    rug_kws : dict, optional\n",
      "        Keyword arguments for :func:`rugplot`.\n",
      "    color : matplotlib color, optional\n",
      "        Color to plot everything but the fitted curve in.\n",
      "    vertical : bool, optional\n",
      "        If True, observed values are on y-axis.\n",
      "    norm_hist : bool, optional\n",
      "        If True, the histogram height shows a density rather than a count.\n",
      "        This is implied if a KDE or fitted density is plotted.\n",
      "    axlabel : string, False, or None, optional\n",
      "        Name for the support axis label. If None, will try to get it\n",
      "        from a.name if False, do not set a label.\n",
      "    label : string, optional\n",
      "        Legend label for the relevant component of the plot.\n",
      "    ax : matplotlib axis, optional\n",
      "        If provided, plot on this axis.\n",
      "    \n",
      "    Returns\n",
      "    -------\n",
      "    ax : matplotlib Axes\n",
      "        Returns the Axes object with the plot for further tweaking.\n",
      "    \n",
      "    See Also\n",
      "    --------\n",
      "    kdeplot : Show a univariate or bivariate distribution with a kernel\n",
      "              density estimate.\n",
      "    rugplot : Draw small vertical lines to show each observation in a\n",
      "              distribution.\n",
      "    \n",
      "    Examples\n",
      "    --------\n",
      "    \n",
      "    Show a default plot with a kernel density estimate and histogram with bin\n",
      "    size determined automatically with a reference rule:\n",
      "    \n",
      "    .. plot::\n",
      "        :context: close-figs\n",
      "    \n",
      "        >>> import seaborn as sns, numpy as np\n",
      "        >>> sns.set(); np.random.seed(0)\n",
      "        >>> x = np.random.randn(100)\n",
      "        >>> ax = sns.distplot(x)\n",
      "    \n",
      "    Use Pandas objects to get an informative axis label:\n",
      "    \n",
      "    .. plot::\n",
      "        :context: close-figs\n",
      "    \n",
      "        >>> import pandas as pd\n",
      "        >>> x = pd.Series(x, name=\"x variable\")\n",
      "        >>> ax = sns.distplot(x)\n",
      "    \n",
      "    Plot the distribution with a kernel density estimate and rug plot:\n",
      "    \n",
      "    .. plot::\n",
      "        :context: close-figs\n",
      "    \n",
      "        >>> ax = sns.distplot(x, rug=True, hist=False)\n",
      "    \n",
      "    Plot the distribution with a histogram and maximum likelihood gaussian\n",
      "    distribution fit:\n",
      "    \n",
      "    .. plot::\n",
      "        :context: close-figs\n",
      "    \n",
      "        >>> from scipy.stats import norm\n",
      "        >>> ax = sns.distplot(x, fit=norm, kde=False)\n",
      "    \n",
      "    Plot the distribution on the vertical axis:\n",
      "    \n",
      "    .. plot::\n",
      "        :context: close-figs\n",
      "    \n",
      "        >>> ax = sns.distplot(x, vertical=True)\n",
      "    \n",
      "    Change the color of all the plot elements:\n",
      "    \n",
      "    .. plot::\n",
      "        :context: close-figs\n",
      "    \n",
      "        >>> sns.set_color_codes()\n",
      "        >>> ax = sns.distplot(x, color=\"y\")\n",
      "    \n",
      "    Pass specific parameters to the underlying plot functions:\n",
      "    \n",
      "    .. plot::\n",
      "        :context: close-figs\n",
      "    \n",
      "        >>> ax = sns.distplot(x, rug=True, rug_kws={\"color\": \"g\"},\n",
      "        ...                   kde_kws={\"color\": \"k\", \"lw\": 3, \"label\": \"KDE\"},\n",
      "        ...                   hist_kws={\"histtype\": \"step\", \"linewidth\": 3,\n",
      "        ...                             \"alpha\": 1, \"color\": \"g\"})\n",
      "\n"
     ]
    }
   ],
   "source": [
    "help(sns.distplot)\n"
   ]
  },
  {
   "cell_type": "code",
   "execution_count": 173,
   "metadata": {},
   "outputs": [
    {
     "name": "stdout",
     "output_type": "stream",
     "text": [
      "Help on function kdeplot in module seaborn.distributions:\n",
      "\n",
      "kdeplot(data, data2=None, shade=False, vertical=False, kernel='gau', bw='scott', gridsize=100, cut=3, clip=None, legend=True, cumulative=False, shade_lowest=True, cbar=False, cbar_ax=None, cbar_kws=None, ax=None, **kwargs)\n",
      "    Fit and plot a univariate or bivariate kernel density estimate.\n",
      "    \n",
      "    Parameters\n",
      "    ----------\n",
      "    data : 1d array-like\n",
      "        Input data.\n",
      "    data2: 1d array-like, optional\n",
      "        Second input data. If present, a bivariate KDE will be estimated.\n",
      "    shade : bool, optional\n",
      "        If True, shade in the area under the KDE curve (or draw with filled\n",
      "        contours when data is bivariate).\n",
      "    vertical : bool, optional\n",
      "        If True, density is on x-axis.\n",
      "    kernel : {'gau' | 'cos' | 'biw' | 'epa' | 'tri' | 'triw' }, optional\n",
      "        Code for shape of kernel to fit with. Bivariate KDE can only use\n",
      "        gaussian kernel.\n",
      "    bw : {'scott' | 'silverman' | scalar | pair of scalars }, optional\n",
      "        Name of reference method to determine kernel size, scalar factor,\n",
      "        or scalar for each dimension of the bivariate plot. Note that the\n",
      "        underlying computational libraries have different interperetations\n",
      "        for this parameter: ``statsmodels`` uses it directly, but ``scipy``\n",
      "        treats it as a scaling factor for the standard deviation of the\n",
      "        data.\n",
      "    gridsize : int, optional\n",
      "        Number of discrete points in the evaluation grid.\n",
      "    cut : scalar, optional\n",
      "        Draw the estimate to cut * bw from the extreme data points.\n",
      "    clip : pair of scalars, or pair of pair of scalars, optional\n",
      "        Lower and upper bounds for datapoints used to fit KDE. Can provide\n",
      "        a pair of (low, high) bounds for bivariate plots.\n",
      "    legend : bool, optional\n",
      "        If True, add a legend or label the axes when possible.\n",
      "    cumulative : bool, optional\n",
      "        If True, draw the cumulative distribution estimated by the kde.\n",
      "    shade_lowest : bool, optional\n",
      "        If True, shade the lowest contour of a bivariate KDE plot. Not\n",
      "        relevant when drawing a univariate plot or when ``shade=False``.\n",
      "        Setting this to ``False`` can be useful when you want multiple\n",
      "        densities on the same Axes.\n",
      "    cbar : bool, optional\n",
      "        If True and drawing a bivariate KDE plot, add a colorbar.\n",
      "    cbar_ax : matplotlib axes, optional\n",
      "        Existing axes to draw the colorbar onto, otherwise space is taken\n",
      "        from the main axes.\n",
      "    cbar_kws : dict, optional\n",
      "        Keyword arguments for ``fig.colorbar()``.\n",
      "    ax : matplotlib axes, optional\n",
      "        Axes to plot on, otherwise uses current axes.\n",
      "    kwargs : key, value pairings\n",
      "        Other keyword arguments are passed to ``plt.plot()`` or\n",
      "        ``plt.contour{f}`` depending on whether a univariate or bivariate\n",
      "        plot is being drawn.\n",
      "    \n",
      "    Returns\n",
      "    -------\n",
      "    ax : matplotlib Axes\n",
      "        Axes with plot.\n",
      "    \n",
      "    See Also\n",
      "    --------\n",
      "    distplot: Flexibly plot a univariate distribution of observations.\n",
      "    jointplot: Plot a joint dataset with bivariate and marginal distributions.\n",
      "    \n",
      "    Examples\n",
      "    --------\n",
      "    \n",
      "    Plot a basic univariate density:\n",
      "    \n",
      "    .. plot::\n",
      "        :context: close-figs\n",
      "    \n",
      "        >>> import numpy as np; np.random.seed(10)\n",
      "        >>> import seaborn as sns; sns.set(color_codes=True)\n",
      "        >>> mean, cov = [0, 2], [(1, .5), (.5, 1)]\n",
      "        >>> x, y = np.random.multivariate_normal(mean, cov, size=50).T\n",
      "        >>> ax = sns.kdeplot(x)\n",
      "    \n",
      "    Shade under the density curve and use a different color:\n",
      "    \n",
      "    .. plot::\n",
      "        :context: close-figs\n",
      "    \n",
      "        >>> ax = sns.kdeplot(x, shade=True, color=\"r\")\n",
      "    \n",
      "    Plot a bivariate density:\n",
      "    \n",
      "    .. plot::\n",
      "        :context: close-figs\n",
      "    \n",
      "        >>> ax = sns.kdeplot(x, y)\n",
      "    \n",
      "    Use filled contours:\n",
      "    \n",
      "    .. plot::\n",
      "        :context: close-figs\n",
      "    \n",
      "        >>> ax = sns.kdeplot(x, y, shade=True)\n",
      "    \n",
      "    Use more contour levels and a different color palette:\n",
      "    \n",
      "    .. plot::\n",
      "        :context: close-figs\n",
      "    \n",
      "        >>> ax = sns.kdeplot(x, y, n_levels=30, cmap=\"Purples_d\")\n",
      "    \n",
      "    Use a narrower bandwith:\n",
      "    \n",
      "    .. plot::\n",
      "        :context: close-figs\n",
      "    \n",
      "        >>> ax = sns.kdeplot(x, bw=.15)\n",
      "    \n",
      "    Plot the density on the vertical axis:\n",
      "    \n",
      "    .. plot::\n",
      "        :context: close-figs\n",
      "    \n",
      "        >>> ax = sns.kdeplot(y, vertical=True)\n",
      "    \n",
      "    Limit the density curve within the range of the data:\n",
      "    \n",
      "    .. plot::\n",
      "        :context: close-figs\n",
      "    \n",
      "        >>> ax = sns.kdeplot(x, cut=0)\n",
      "    \n",
      "    Add a colorbar for the contours:\n",
      "    \n",
      "    .. plot::\n",
      "        :context: close-figs\n",
      "    \n",
      "        >>> ax = sns.kdeplot(x, y, cbar=True)\n",
      "    \n",
      "    Plot two shaded bivariate densities:\n",
      "    \n",
      "    .. plot::\n",
      "        :context: close-figs\n",
      "    \n",
      "        >>> iris = sns.load_dataset(\"iris\")\n",
      "        >>> setosa = iris.loc[iris.species == \"setosa\"]\n",
      "        >>> virginica = iris.loc[iris.species == \"virginica\"]\n",
      "        >>> ax = sns.kdeplot(setosa.sepal_width, setosa.sepal_length,\n",
      "        ...                  cmap=\"Reds\", shade=True, shade_lowest=False)\n",
      "        >>> ax = sns.kdeplot(virginica.sepal_width, virginica.sepal_length,\n",
      "        ...                  cmap=\"Blues\", shade=True, shade_lowest=False)\n",
      "\n"
     ]
    }
   ],
   "source": [
    "help(sns.kdeplot)"
   ]
  },
  {
   "cell_type": "code",
   "execution_count": 145,
   "metadata": {},
   "outputs": [
    {
     "data": {
      "text/plain": [
       "Text(0, 0.5, 'Density')"
      ]
     },
     "execution_count": 145,
     "metadata": {},
     "output_type": "execute_result"
    },
    {
     "data": {
      "image/png": "[encoded data removed]",
      "text/plain": [
       "<Figure size 432x288 with 1 Axes>"
      ]
     },
     "metadata": {
      "needs_background": "light"
     },
     "output_type": "display_data"
    }
   ],
   "source": [
    "#PLOT_1_t0\n",
    "# plot a density kernel and histogram of all the data\n",
    "sns.distplot(df_t0[\"rfu\"],bins = 40, kde=True)\n",
    "plt.title('Kernel Density and histplot rfu_t0')\n",
    "plt.xlabel(\"RFU\")\n",
    "plt.ylabel('Density')"
   ]
  },
  {
   "cell_type": "code",
   "execution_count": 97,
   "metadata": {},
   "outputs": [
    {
     "name": "stdout",
     "output_type": "stream",
     "text": [
      "['A1', 'A2', 'B1', 'B2', 'C1', 'C2', 'D1', 'D2', 'E1', 'E2', 'F1', 'F2', 'G1', 'G2', 'H1', 'H2']\n",
      "[0, 1, 12, 13, 24, 25, 36, 37, 48, 49, 60, 61, 72, 73, 84, 85, 96, 97, 108, 109, 120, 121, 132, 133, 144, 145, 156, 157, 168, 169, 180, 181, 192, 193, 204, 205, 216, 217, 228, 229, 240, 241, 252, 253, 264, 265, 276, 277, 288, 289, 300, 301, 312, 313, 324, 325, 336, 337, 348, 349, 360, 361, 372, 373, 384, 385, 396, 397, 408, 409, 420, 421, 432, 433, 444, 445, 456, 457, 468, 469, 480, 481, 492, 493, 504, 505, 516, 517, 528, 529, 540, 541, 552, 553, 564, 565, 576, 577, 588, 589, 600, 601, 612, 613, 624, 625, 636, 637, 648, 649, 660, 661, 672, 673, 684, 685, 696, 697, 708, 709, 720, 721, 732, 733, 744, 745, 756, 757, 768, 769, 780, 781, 792, 793, 804, 805, 816, 817, 828, 829, 840, 841, 852, 853, 864, 865, 876, 877, 888, 889, 900, 901, 912, 913, 924, 925, 936, 937, 948, 949, 960, 961, 972, 973, 984, 985, 996, 997, 1008, 1009, 1020, 1021, 1032, 1033, 1044, 1045, 1056, 1057, 1068, 1069, 1080, 1081, 1092, 1093, 1104, 1105, 1116, 1117, 1128, 1129, 1140, 1141, 1152, 1153, 1164, 1165, 1176, 1177, 1188, 1189, 1200, 1201, 1212, 1213, 1224, 1225, 1236, 1237, 1248, 1249, 1260, 1261, 1272, 1273, 1284, 1285, 1296, 1297, 1308, 1309, 1320, 1321, 1332, 1333, 1344, 1345, 1356, 1357, 1368, 1369, 1380, 1381, 1392, 1393, 1404, 1405, 1416, 1417, 1428, 1429, 1440, 1441, 1452, 1453, 1464, 1465, 1476, 1477, 1488, 1489, 1500, 1501, 1512, 1513, 1524, 1525, 1536, 1537, 1548, 1549, 1560, 1561, 1572, 1573, 1584, 1585, 1596, 1597, 1608, 1609, 1620, 1621, 1632, 1633, 1644, 1645, 1656, 1657, 1668, 1669, 1680, 1681, 1692, 1693, 1704, 1705, 1716, 1717, 1728, 1729, 1740, 1741, 1752, 1753, 1764, 1765, 1776, 1777, 1788, 1789, 1800, 1801, 1812, 1813, 1824, 1825, 1836, 1837, 1848, 1849, 1860, 1861, 1872, 1873, 1884, 1885, 1896, 1897, 1908, 1909, 1920, 1921, 1932, 1933, 1944, 1945, 1956, 1957, 1968, 1969, 1980, 1981, 1992, 1993, 2004, 2005, 2016, 2017, 2028, 2029, 2040, 2041, 2052, 2053, 2064, 2065, 2076, 2077, 2088, 2089, 2100, 2101, 2112, 2113, 2124, 2125, 2136, 2137, 2148, 2149, 2160, 2161, 2172, 2173, 2184, 2185, 2196, 2197, 2208, 2209, 2220, 2221, 2232, 2233, 2244, 2245, 2256, 2257, 2268, 2269, 2280, 2281, 2292, 2293]\n",
      "lenght of dataframe after deleting the first two columns from every plate is: 1920\n"
     ]
    }
   ],
   "source": [
    "#discard data point from the first two columns (columns 1 and 2 from a 96-well microplate)\n",
    "#the wells in these columns have enough soil particulates to increas RFU values above media background\n",
    "\n",
    "#make a copy of the original dataframe \n",
    "df_t0c = df_t0.copy()\n",
    "\n",
    "#make a list of items to delete from the dataframe\n",
    "\n",
    "letters = [\"A\",\"B\",\"C\",\"D\",\"E\",\"F\",\"G\",\"H\"]\n",
    "\n",
    "numbers = ['1','2']\n",
    "\n",
    "ln = []\n",
    "\n",
    "for item in letters:\n",
    "    for num in numbers:\n",
    "        ln.append(item+num)\n",
    "        \n",
    "print(ln)\n",
    "\n",
    "\n",
    "#extract row indices to delete form dataframe\n",
    "matching_indices =[]\n",
    "\n",
    "for index, row in df_t0c.iterrows():\n",
    "    if row[\"plate_well\"] in ln:\n",
    "        matching_indices.append(index)\n",
    "\n",
    "\n",
    "print(matching_indices)\n",
    "\n",
    "df_t0cd = df_t0c.drop(matching_indices)\n",
    "\n",
    "df_t0cd = df_t0cd.reset_index(drop=True) \n",
    "\n",
    "print(\"lenght of dataframe after deleting the first two columns from every plate is:\", len(df_t0cd))"
   ]
  },
  {
   "cell_type": "code",
   "execution_count": 144,
   "metadata": {},
   "outputs": [
    {
     "data": {
      "text/plain": [
       "Text(0, 0.5, 'Density')"
      ]
     },
     "execution_count": 144,
     "metadata": {},
     "output_type": "execute_result"
    },
    {
     "data": {
      "image/png": "[encoded data removed]",
      "text/plain": [
       "<Figure size 432x288 with 1 Axes>"
      ]
     },
     "metadata": {
      "needs_background": "light"
     },
     "output_type": "display_data"
    }
   ],
   "source": [
    "#PLOT_2_t0\n",
    "# re-plot a density kernel and histogram after removing wells with high soil particulate\n",
    "sns.distplot(df_t0cd[\"rfu\"],bins = 40, kde=True)\n",
    "plt.title('Kernel Density and histplot rfu_t0')\n",
    "plt.xlabel(\"RFU\")\n",
    "plt.ylabel('Density')"
   ]
  },
  {
   "cell_type": "code",
   "execution_count": 180,
   "metadata": {},
   "outputs": [
    {
     "name": "stdout",
     "output_type": "stream",
     "text": [
      "the mean value is 3.1983739583333346\n",
      "the standard deviation is 0.5155337340936077\n",
      "lower limit is 0.6207052878652961\n",
      "upper limit is 5.776042628801373\n"
     ]
    },
    {
     "data": {
      "image/png": "[encoded data removed]",
      "text/plain": [
       "<Figure size 432x288 with 1 Axes>"
      ]
     },
     "metadata": {
      "needs_background": "light"
     },
     "output_type": "display_data"
    }
   ],
   "source": [
    "#PLOT_3_t0\n",
    "#calculate standard deviations\n",
    "mean_value_t0 = np.mean(df_t0cd[\"rfu\"])\n",
    "print(\"the mean value is\", mean_value_t0)\n",
    "\n",
    "std_dev_t0 = np.std(df_t0cd[\"rfu\"])\n",
    "\n",
    "print(\"the standard deviation is\", std_dev_t0)\n",
    "\n",
    "lower_limit_t0 = mean_value_t0 - (5*std_dev_t0)\n",
    "upper_limit_t0 = mean_value_t0 + (5*std_dev_t0) \n",
    "\n",
    "print(\"lower limit is\", lower_limit_t0)\n",
    "print(\"upper limit is\", upper_limit_t0)\n",
    "\n",
    "#add mean value and 5X the standard deviation to plot\n",
    "sns.distplot(df_t0cd[\"rfu\"],bins = 40, kde=True)\n",
    "plt.xlabel(\"RFU\")\n",
    "plt.ylabel('Density')\n",
    "#plt.xlim(mean_value_t0, upper_limit_t0)\n",
    "\n",
    "plt.text(mean_value_t0, plt.ylim()[1] * 0.9, f'Mean: {mean_value_t0:.2f}', color='red')\n",
    "plt.text(upper_limit_t0, plt.ylim()[1] * 0.6, f'5*Std+mean: {upper_limit_t0:.2f}', color='red')\n",
    "\n",
    "plt.axvline(mean_value_t0, color='black', linestyle='--', label='mean value')\n",
    "#plt.axvline(lower_limit_t0, color='red', linestyle='--', label='Lower Limit')\n",
    "plt.axvline(upper_limit_t0, color='green', linestyle='--', label='Upper Limit')\n",
    "\n",
    "plt.show()\n",
    "#for MicroMPN we chose a threshold value of 6."
   ]
  },
  {
   "cell_type": "code",
   "execution_count": 117,
   "metadata": {},
   "outputs": [
    {
     "name": "stdout",
     "output_type": "stream",
     "text": [
      "Length of dataframe df_t48: 1152\n"
     ]
    }
   ],
   "source": [
    "#import T48 data file\n",
    "\n",
    "df_t48 = pd.read_csv(\"soil_only.csv\")\n",
    "length = len(df_t48)\n",
    "print(\"Length of dataframe df_t48:\", length)\n"
   ]
  },
  {
   "cell_type": "code",
   "execution_count": 118,
   "metadata": {},
   "outputs": [
    {
     "name": "stdout",
     "output_type": "stream",
     "text": [
      "     plate_unique               plate_id plate_well      rfu\n",
      "0         plate_0  RFP_1_plate_1_shaking         A1   22.163\n",
      "1         plate_0  RFP_1_plate_1_shaking         A2  517.508\n",
      "2         plate_0  RFP_1_plate_1_shaking         A3  532.510\n",
      "3         plate_0  RFP_1_plate_1_shaking         A4  397.897\n",
      "4         plate_0  RFP_1_plate_1_shaking         A5  425.865\n",
      "...           ...                    ...        ...      ...\n",
      "1147     plate_11          RFP_3_plate_1         H8    3.597\n",
      "1148     plate_11          RFP_3_plate_1         H9    3.930\n",
      "1149     plate_11          RFP_3_plate_1        H10    3.571\n",
      "1150     plate_11          RFP_3_plate_1        H11    3.042\n",
      "1151     plate_11          RFP_3_plate_1        H12    3.254\n",
      "\n",
      "[1152 rows x 4 columns]\n"
     ]
    }
   ],
   "source": [
    "print(df_t48)"
   ]
  },
  {
   "cell_type": "code",
   "execution_count": 146,
   "metadata": {
    "scrolled": true
   },
   "outputs": [
    {
     "data": {
      "text/plain": [
       "Text(0, 0.5, 'Density')"
      ]
     },
     "execution_count": 146,
     "metadata": {},
     "output_type": "execute_result"
    },
    {
     "data": {
      "image/png": "[encoded data removed]",
      "text/plain": [
       "<Figure size 432x288 with 1 Axes>"
      ]
     },
     "metadata": {
      "needs_background": "light"
     },
     "output_type": "display_data"
    }
   ],
   "source": [
    "#PLOT_4_t48\n",
    "# plot a density kernel and histogram of all the data\n",
    "sns.distplot(df_t48[\"rfu\"],bins = 100, kde=True)\n",
    "plt.title('Kernel Density and histplot rfu_t48')\n",
    "plt.xlabel(\"RFU\")\n",
    "plt.ylabel('Density')"
   ]
  },
  {
   "cell_type": "code",
   "execution_count": 125,
   "metadata": {},
   "outputs": [
    {
     "name": "stdout",
     "output_type": "stream",
     "text": [
      "['A1', 'A2', 'B1', 'B2', 'C1', 'C2', 'D1', 'D2', 'E1', 'E2', 'F1', 'F2', 'G1', 'G2', 'H1', 'H2']\n",
      "[0, 1, 12, 13, 24, 25, 36, 37, 48, 49, 60, 61, 72, 73, 84, 85, 96, 97, 108, 109, 120, 121, 132, 133, 144, 145, 156, 157, 168, 169, 180, 181, 192, 193, 204, 205, 216, 217, 228, 229, 240, 241, 252, 253, 264, 265, 276, 277, 288, 289, 300, 301, 312, 313, 324, 325, 336, 337, 348, 349, 360, 361, 372, 373, 384, 385, 396, 397, 408, 409, 420, 421, 432, 433, 444, 445, 456, 457, 468, 469, 480, 481, 492, 493, 504, 505, 516, 517, 528, 529, 540, 541, 552, 553, 564, 565, 576, 577, 588, 589, 600, 601, 612, 613, 624, 625, 636, 637, 648, 649, 660, 661, 672, 673, 684, 685, 696, 697, 708, 709, 720, 721, 732, 733, 744, 745, 756, 757, 768, 769, 780, 781, 792, 793, 804, 805, 816, 817, 828, 829, 840, 841, 852, 853, 864, 865, 876, 877, 888, 889, 900, 901, 912, 913, 924, 925, 936, 937, 948, 949, 960, 961, 972, 973, 984, 985, 996, 997, 1008, 1009, 1020, 1021, 1032, 1033, 1044, 1045, 1056, 1057, 1068, 1069, 1080, 1081, 1092, 1093, 1104, 1105, 1116, 1117, 1128, 1129, 1140, 1141]\n",
      "lenght of dataframe after deleting the first two columns from every plate is: 960\n"
     ]
    }
   ],
   "source": [
    "#discard data point from the first two columns (columns 1 and 2 from a 96-well microplate)\n",
    "#the wells in these columns have enough soil particulates to increas RFU values above media background\n",
    "\n",
    "#make a copy of the original dataframe \n",
    "df_t48c = df_t48.copy()\n",
    "\n",
    "#make a list of items to delete from the dataframe\n",
    "\n",
    "letters = [\"A\",\"B\",\"C\",\"D\",\"E\",\"F\",\"G\",\"H\"]\n",
    "\n",
    "numbers = ['1','2']\n",
    "\n",
    "ln = []\n",
    "\n",
    "for item in letters:\n",
    "    for num in numbers:\n",
    "        ln.append(item+num)\n",
    "        \n",
    "print(ln)\n",
    "\n",
    "\n",
    "#extract row indices to delete form dataframe\n",
    "matching_indices48 =[]\n",
    "\n",
    "for index, row in df_t48c.iterrows():\n",
    "    if row[\"plate_well\"] in ln:\n",
    "        matching_indices48.append(index)\n",
    "\n",
    "\n",
    "print(matching_indices48)\n",
    "\n",
    "df_t48cd = df_t48c.drop(matching_indices48)\n",
    "\n",
    "df_t48cd = df_t48cd.reset_index(drop=True) \n",
    "\n",
    "print(\"lenght of dataframe after deleting the first two columns from every plate is:\", len(df_t48cd))"
   ]
  },
  {
   "cell_type": "code",
   "execution_count": 182,
   "metadata": {},
   "outputs": [
    {
     "data": {
      "image/png": "[encoded data removed]",
      "text/plain": [
       "<Figure size 432x288 with 1 Axes>"
      ]
     },
     "metadata": {
      "needs_background": "light"
     },
     "output_type": "display_data"
    }
   ],
   "source": [
    "#PLOT_5_t48\n",
    "# re-plot a density kernel and histogram after removing wells with high soil particulate\n",
    "sns.distplot(df_t48cd[\"rfu\"], bins = 40, kde=True, kde_kws = {'color':'#8e00ce', \n",
    "                       'linewidth':3, 'linestyle':'solid', 'alpha':0.9,'cut':0.0})\n",
    "plt.title('Kernel Density and histplot rfu_t48')\n",
    "plt.xlabel(\"RFU\")\n",
    "plt.ylabel('Density')\n",
    "\n",
    "plt.text(upper_limit_t0, plt.ylim()[1] * 0.9, f'Mean_t0: {mean_value_t0:.2f}', color='red')\n",
    "plt.text(upper_limit_t0, plt.ylim()[1] * 0.85, f'5xStd+mean_t0: {upper_limit_t0:.2f}', color='red')\n",
    "\n",
    "plt.axvline(mean_value_t0, color='black', linestyle='--', label='mean value')\n",
    "plt.axvline(6, color='green', linestyle='--', label='Upper Limit')\n",
    "\n",
    "plt.show()"
   ]
  },
  {
   "cell_type": "code",
   "execution_count": 162,
   "metadata": {},
   "outputs": [
    {
     "name": "stdout",
     "output_type": "stream",
     "text": [
      "447\n",
      "    plate_unique               plate_id plate_well    rfu\n",
      "0        plate_0  RFP_1_plate_1_shaking        A10  4.630\n",
      "1        plate_0  RFP_1_plate_1_shaking        A11  4.151\n",
      "2        plate_0  RFP_1_plate_1_shaking        A12  5.097\n",
      "3        plate_0  RFP_1_plate_1_shaking        B11  4.817\n",
      "4        plate_0  RFP_1_plate_1_shaking        B12  4.472\n",
      "..           ...                    ...        ...    ...\n",
      "442     plate_11          RFP_3_plate_1         H8  3.597\n",
      "443     plate_11          RFP_3_plate_1         H9  3.930\n",
      "444     plate_11          RFP_3_plate_1        H10  3.571\n",
      "445     plate_11          RFP_3_plate_1        H11  3.042\n",
      "446     plate_11          RFP_3_plate_1        H12  3.254\n",
      "\n",
      "[447 rows x 4 columns]\n"
     ]
    }
   ],
   "source": [
    "#FIND ALL THE ROWS WERE RFU IS LESS THAN 20 AND EXTRACTY TO A NEW DATAFRAME\n",
    "#Then repeat analysis\n",
    "\n",
    "selected_rows = []\n",
    "\n",
    "for index, row in df_t48cd.iterrows():\n",
    "    if row[\"rfu\"] <= 20:\n",
    "        selected_rows.append(row[['plate_unique','plate_id', 'plate_well', 'rfu']])\n",
    "\n",
    "result_df = pd.DataFrame(selected_rows)\n",
    "\n",
    "result_df = result_df.reset_index(drop=True)\n",
    "\n",
    "print(len(result_df))\n",
    "print(result_df)"
   ]
  },
  {
   "cell_type": "code",
   "execution_count": 181,
   "metadata": {},
   "outputs": [
    {
     "data": {
      "image/png": "[encoded data removed]",
      "text/plain": [
       "<Figure size 432x288 with 1 Axes>"
      ]
     },
     "metadata": {
      "needs_background": "light"
     },
     "output_type": "display_data"
    }
   ],
   "source": [
    "#PLOT_6_t48\n",
    "# zoomong in to x = (0,20)\n",
    "sns.distplot(result_df[\"rfu\"], bins = 40, kde=True, kde_kws = {'color':'#8e00ce', \n",
    "                       'linewidth':3, 'linestyle':'solid', 'alpha':0.9,'cut':0.0})\n",
    "plt.title('Kernel Density and histplot rfu_t48')\n",
    "plt.xlabel(\"RFU\")\n",
    "plt.ylabel('Density')\n",
    "\n",
    "plt.text(upper_limit_t0, plt.ylim()[1] * 0.9, f'Mean_t0: {mean_value_t0:.2f}', color='red')\n",
    "plt.text(upper_limit_t0, plt.ylim()[1] * 0.85, f'5xStd+mean_t0: {upper_limit_t0:.2f}', color='red')\n",
    "\n",
    "plt.axvline(mean_value_t0, color='black', linestyle='--', label='mean value')\n",
    "plt.axvline(6, color='green', linestyle='--', label='Upper Limit')\n",
    "plt.xlim(0,10)\n",
    "plt.show()"
   ]
  },
  {
   "attachments": {},
   "cell_type": "markdown",
   "metadata": {},
   "source": [
    "#Discussion of plots\n",
    "\n",
    "In our data, we used a threshold of 5-sigma above the mean_T0 (background fluorescence). \n",
    "\n",
    "The kernel density estimate (kde) is used to infer a probability density function from discrete data points.\n",
    "\n",
    "The histogram approximates the kde plot through binning of the data.\n",
    "\n",
    "PLOT_1_t0: all data points displayed with kde and histogram.\n",
    "\n",
    "PLOT_2_t0: subset of data points for columns 3 - 12 of a 96-well microplate. Columns 1 and 2 have high soil background.\n",
    "    \n",
    "PLOT_3_t0: plot with mean rfu t0 and 5x-standard deviation. A threshold of 6 was ultimately chosen.\n",
    "\n",
    "PLOT_4_t48:all data points displayed with kde and histogram.\n",
    "\n",
    "PLOT_5_t48: all data points displayed with kde and the cut parameter (specifies how far the\n",
    "curve should extend beyond the extreme data points. Bimodal distribution is evident.\n",
    "\n",
    "PLOT_6_t48: we subset data points with RFU values less than 20 to show background mean of t48 which is just above 0.0. \n",
    "We overlayed the mean_t0 and std_t0 on the plot for comparison. \n",
    "All background data for t_48 are clearly below the threshold based on plots PLOT_2_t0 and PLOT_3_t0.\n",
    "\n",
    "\n",
    "\n",
    "\n",
    "\n"
   ]
  },
  {
   "attachments": {
    "t48_negative_plate.png": {
     "image/png": "[encoded data removed]"
    }
   },
   "cell_type": "markdown",
   "metadata": {},
   "source": [
    "#Threshold Caveat\n",
    "\n",
    "RFU values only slightly above threshold can indicate that Ralstonia is present, \n",
    "particularly at lower dilution factors, which are particularly susceptible to overgrowth of other microbes in the environment.\n",
    "At higher dilution factors this effect dissapears as background microbes are diluted out, permitting growth of target.\n",
    "\n",
    "Common sense should still be used to visually inspect plates used to generate data before running MicroMPN. \n",
    "\n",
    "For instance, a plate with consistently low RFU across all other plate replicates might \n",
    "indicate a systemic issue with target growth (see image below; data for synthetic community 6),\n",
    "plasmid retention, incubation conditions, overgrowth of background, etc. \n",
    "![t48_negative_plate.png](attachment:t48_negative_plate.png)\n",
    "\n",
    "In this situation, even though the plate could be used to generate an MPN estimate, \n",
    "compared to other plates in the same series and experiment, \n",
    "it is obvious that there is a problem with expression of the fluorophore. \n",
    "\n",
    "In such a case, to conclude that the target was fully suppressed, \n",
    "more sensitive molecular techiniques (e.g. qPCR) should be employed.\n"
   ]
  },
  {
   "cell_type": "code",
   "execution_count": null,
   "metadata": {},
   "outputs": [],
   "source": [
    "#issues with image, see file t48_negative_plate.png located in github folder MicroMPN_soil_and_synthetic_communities/Raw_data"
   ]
  }
 ],
 "metadata": {
  "kernelspec": {
   "display_name": "Python 3",
   "language": "python",
   "name": "python3"
  },
  "language_info": {
   "codemirror_mode": {
    "name": "ipython",
    "version": 3
   },
   "file_extension": ".py",
   "mimetype": "text/x-python",
   "name": "python",
   "nbconvert_exporter": "python",
   "pygments_lexer": "ipython3",
   "version": "3.8.3"
  }
 },
 "nbformat": 4,
 "nbformat_minor": 4
}
